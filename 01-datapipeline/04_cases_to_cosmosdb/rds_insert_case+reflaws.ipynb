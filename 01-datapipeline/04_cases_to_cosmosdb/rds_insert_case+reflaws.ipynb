{
  "nbformat": 4,
  "nbformat_minor": 0,
  "metadata": {
    "colab": {
      "name": "rds-insert-case+reflaws.ipynb",
      "version": "0.3.2",
      "provenance": []
    },
    "kernelspec": {
      "name": "python3",
      "display_name": "Python 3"
    }
  },
  "cells": [
    {
      "metadata": {
        "id": "vk98lDjsf3Ko",
        "colab_type": "code",
        "outputId": "25a2dc1b-e527-4d91-89b7-2e5a2ecd9a89",
        "colab": {
          "base_uri": "https://localhost:8080/",
          "height": 144
        }
      },
      "cell_type": "code",
      "source": [
        "!pip install pandas pymysql sqlalchemy"
      ],
      "execution_count": 0,
      "outputs": [
        {
          "output_type": "stream",
          "text": [
            "Requirement already satisfied: pandas in /usr/local/lib/python3.6/dist-packages (0.22.0)\r\n",
            "Requirement already satisfied: pymysql in /usr/local/lib/python3.6/dist-packages (0.8.0)\r\n",
            "Requirement already satisfied: sqlalchemy in /usr/local/lib/python3.6/dist-packages (1.2.7)\r\n",
            "Requirement already satisfied: python-dateutil>=2 in /usr/local/lib/python3.6/dist-packages (from pandas) (2.5.3)\r\n",
            "Requirement already satisfied: pytz>=2011k in /usr/local/lib/python3.6/dist-packages (from pandas) (2018.4)\r\n",
            "Requirement already satisfied: numpy>=1.9.0 in /usr/local/lib/python3.6/dist-packages (from pandas) (1.14.3)\r\n",
            "Requirement already satisfied: six>=1.5 in /usr/local/lib/python3.6/dist-packages (from python-dateutil>=2->pandas) (1.11.0)\r\n"
          ],
          "name": "stdout"
        }
      ]
    },
    {
      "metadata": {
        "id": "qkBpphrthQ9w",
        "colab_type": "code",
        "outputId": "baf12794-1764-4a7c-cbfe-36afb4809859",
        "colab": {
          "base_uri": "https://localhost:8080/",
          "height": 71
        }
      },
      "cell_type": "code",
      "source": [
        "import re\n",
        "import pandas as pd\n",
        "\n",
        "class MySQLConnectnDataframe:\n",
        "\n",
        "    def __init__(self, userName, userPassword, hostServer, dbName):\n",
        "        from sqlalchemy import create_engine\n",
        "        from sqlalchemy.pool import NullPool\n",
        "        import pymysql\n",
        "        pymysql.install_as_MySQLdb()\n",
        "        import MySQLdb\n",
        "        self.engine = create_engine(\n",
        "                            'mysql+mysqldb://'\n",
        "                            + userName + ':'\n",
        "                            + userPassword + '@'\n",
        "                            + hostServer + '/'\n",
        "                            + dbName\n",
        "                            + '?charset=utf8',\n",
        "                            encoding='utf8',\n",
        "                            poolclass=NullPool\n",
        "        )\n",
        "\n",
        "    def _appendDataframeAsRecordsToMySqlTable(self, dataFrame, tableName):\n",
        "        #import pandas as pd\n",
        "        conn = self.engine.connect()\n",
        "        print('00 MySQL Database is connected.')\n",
        "        df = dataFrame\n",
        "        df.to_sql(con=conn, name=tableName, if_exists='append', index=False)\n",
        "        print('00 %i Records has been inserted from Dataframe.' % len(dataFrame) )\n",
        "        conn.close()\n",
        "        print('00 MySQL Database is disconnected.')\n",
        "\n",
        "    def _getDataframeFromQueryOnMySqlTable(self, query):\n",
        "        from pandas import read_sql\n",
        "        conn = self.engine.connect()\n",
        "        print('00 MySQL Database is connected.')\n",
        "        df = read_sql(query, con=conn)\n",
        "        print('00 %i Records has been queried to Dataframe.' % len(df) )\n",
        "        conn.close()\n",
        "        print('00 MySQL Database is disconnected.')\n",
        "        return(df)\n",
        "    \n",
        "    def _getDataframeFromHtml(self, url):\n",
        "        from pandas import read_html\n",
        "        df = read_html(url)\n",
        "        return(df)\n",
        "\n",
        "db = MySQLConnectnDataframe('<your-db-user>','<your-db-password>','<your-db-endpoint>','<your-db-databasename>')\n",
        "res = db._getDataframeFromQueryOnMySqlTable('select caseserialnumber, casenumber, referenceprovision, casename from casetbl')"
      ],
      "execution_count": 0,
      "outputs": [
        {
          "output_type": "stream",
          "text": [
            "00 MySQL Database is connected.\n",
            "00 81508 Records has been queried to Dataframe.\n",
            "00 MySQL Database is disconnected.\n"
          ],
          "name": "stdout"
        }
      ]
    },
    {
      "metadata": {
        "id": "PTczMH5RhUGI",
        "colab_type": "code",
        "colab": {}
      },
      "cell_type": "code",
      "source": [
        "# df = db._getDataframeFromHtml('http://www.scourt.go.kr/portal/information/event/guide/index14.html')\n",
        "# db._appendDataframeAsRecordsToMySqlTable(df[0], 'casenumberLegend')"
      ],
      "execution_count": 0,
      "outputs": []
    },
    {
      "metadata": {
        "id": "yHxSKKWPhaKL",
        "colab_type": "code",
        "colab": {}
      },
      "cell_type": "code",
      "source": [
        "dfcolumn = ['caseIdx', 'caseyear', 'casetype', 'caseref', 'casename']\n",
        "dfindex = list( range(len(res)) )\n",
        "tempdf = pd.DataFrame(columns=dfcolumn, index=dfindex)\n",
        "for rowidx in range( len(res) ):\n",
        "    tempdf[dfcolumn[0]][rowidx] = res['caseserialnumber'][rowidx]   #소송년도\n",
        "    tempdf[dfcolumn[1]][rowidx] = '|'.join( str(x) for x in set(re.findall( '([0-9]+)[가-힣]+[0-9]+', res['casenumber'][rowidx])) )   #소송번호\n",
        "    tempdf[dfcolumn[2]][rowidx] = '|'.join( str(x) for x in set(re.findall( '[0-9]+([가-힣]+)[0-9]+', res['casenumber'][rowidx])) )   #사건구분\n",
        "    #tempdf[dfcolumn[3]][rowidx] = '|'.join( str(x) for x in set( [x[0] for x in re.findall( '\\n*\\s*(대법원|[가-힣]+법|[가-힣][가-힣\\s]+법|[가-힣]+령|[가-힣][가-젛,젝-힣\\s]+령|[가-힣][가-젛,젝-힣\\s]+칙|[가-힣][가-힣\\s]+\\s법률)(\\s|\\(|제)\\s*', res['referenceprovision'][rowidx])] ) )    #참조볍령\n",
        "    tempdf[dfcolumn[3]][rowidx] = '|'.join( str(x) for x in set( [x[0] for x in re.findall( '\\n*\\s*(대법원|[가-힣]+법)(\\s|\\(|제)\\s*', res['referenceprovision'][rowidx])] ) )    #참조볍령\n",
        "    tempdf[dfcolumn[4]][rowidx] = res['casename'][rowidx]   #소송명    "
      ],
      "execution_count": 0,
      "outputs": []
    },
    {
      "metadata": {
        "id": "MY0c6zMhjGpH",
        "colab_type": "code",
        "colab": {}
      },
      "cell_type": "code",
      "source": [
        "s = set()\n",
        "for i in tempdf['caseref']:\n",
        "    tmp = i.split('|')\n",
        "    s.update(tmp)"
      ],
      "execution_count": 0,
      "outputs": []
    },
    {
      "metadata": {
        "id": "0cZEirhEox2O",
        "colab_type": "code",
        "outputId": "66bb1006-98d4-4602-e68c-b8a47a21214a",
        "colab": {
          "base_uri": "https://localhost:8080/",
          "height": 204
        }
      },
      "cell_type": "code",
      "source": [
        "legend = pd.DataFrame( data = list(s), columns = ['nameoflaw'] )\n",
        "legend.head()"
      ],
      "execution_count": 0,
      "outputs": [
        {
          "output_type": "execute_result",
          "data": {
            "text/html": [
              "<div>\n",
              "<style scoped>\n",
              "    .dataframe tbody tr th:only-of-type {\n",
              "        vertical-align: middle;\n",
              "    }\n",
              "\n",
              "    .dataframe tbody tr th {\n",
              "        vertical-align: top;\n",
              "    }\n",
              "\n",
              "    .dataframe thead th {\n",
              "        text-align: right;\n",
              "    }\n",
              "</style>\n",
              "<table border=\"1\" class=\"dataframe\">\n",
              "  <thead>\n",
              "    <tr style=\"text-align: right;\">\n",
              "      <th></th>\n",
              "      <th>nameoflaw</th>\n",
              "    </tr>\n",
              "  </thead>\n",
              "  <tbody>\n",
              "    <tr>\n",
              "      <th>0</th>\n",
              "      <td></td>\n",
              "    </tr>\n",
              "    <tr>\n",
              "      <th>1</th>\n",
              "      <td>산림법</td>\n",
              "    </tr>\n",
              "    <tr>\n",
              "      <th>2</th>\n",
              "      <td>군형법</td>\n",
              "    </tr>\n",
              "    <tr>\n",
              "      <th>3</th>\n",
              "      <td>도시계획법</td>\n",
              "    </tr>\n",
              "    <tr>\n",
              "      <th>4</th>\n",
              "      <td>건설업법</td>\n",
              "    </tr>\n",
              "  </tbody>\n",
              "</table>\n",
              "</div>"
            ],
            "text/plain": [
              "  nameoflaw\n",
              "0          \n",
              "1       산림법\n",
              "2       군형법\n",
              "3     도시계획법\n",
              "4      건설업법"
            ]
          },
          "metadata": {
            "tags": []
          },
          "execution_count": 7
        }
      ]
    },
    {
      "metadata": {
        "id": "hsZQrbCyseLu",
        "colab_type": "code",
        "outputId": "3524e440-4419-4748-e376-04f3870666ca",
        "colab": {
          "base_uri": "https://localhost:8080/",
          "height": 204
        }
      },
      "cell_type": "code",
      "source": [
        "tempdf.head()"
      ],
      "execution_count": 0,
      "outputs": [
        {
          "output_type": "execute_result",
          "data": {
            "text/html": [
              "<div>\n",
              "<style scoped>\n",
              "    .dataframe tbody tr th:only-of-type {\n",
              "        vertical-align: middle;\n",
              "    }\n",
              "\n",
              "    .dataframe tbody tr th {\n",
              "        vertical-align: top;\n",
              "    }\n",
              "\n",
              "    .dataframe thead th {\n",
              "        text-align: right;\n",
              "    }\n",
              "</style>\n",
              "<table border=\"1\" class=\"dataframe\">\n",
              "  <thead>\n",
              "    <tr style=\"text-align: right;\">\n",
              "      <th></th>\n",
              "      <th>caseIdx</th>\n",
              "      <th>caseyear</th>\n",
              "      <th>casetype</th>\n",
              "      <th>caseref</th>\n",
              "      <th>casename</th>\n",
              "    </tr>\n",
              "  </thead>\n",
              "  <tbody>\n",
              "    <tr>\n",
              "      <th>0</th>\n",
              "      <td>0</td>\n",
              "      <td></td>\n",
              "      <td></td>\n",
              "      <td></td>\n",
              "      <td>null</td>\n",
              "    </tr>\n",
              "    <tr>\n",
              "      <th>1</th>\n",
              "      <td>64437</td>\n",
              "      <td>2003</td>\n",
              "      <td>나</td>\n",
              "      <td>민법|파산법</td>\n",
              "      <td>사해행위취소등</td>\n",
              "    </tr>\n",
              "    <tr>\n",
              "      <th>2</th>\n",
              "      <td>64438</td>\n",
              "      <td>2008</td>\n",
              "      <td>도</td>\n",
              "      <td>형사소송법|형법</td>\n",
              "      <td>위증</td>\n",
              "    </tr>\n",
              "    <tr>\n",
              "      <th>3</th>\n",
              "      <td>64439</td>\n",
              "      <td>2007</td>\n",
              "      <td>무</td>\n",
              "      <td>인지법|민사소송법|행정소송법</td>\n",
              "      <td>상고장각하명령에대한이의</td>\n",
              "    </tr>\n",
              "    <tr>\n",
              "      <th>4</th>\n",
              "      <td>64440</td>\n",
              "      <td>2006</td>\n",
              "      <td>다</td>\n",
              "      <td>헌법|민법</td>\n",
              "      <td>손해배상(기)</td>\n",
              "    </tr>\n",
              "  </tbody>\n",
              "</table>\n",
              "</div>"
            ],
            "text/plain": [
              "  caseIdx caseyear casetype          caseref      casename\n",
              "0       0                                             null\n",
              "1   64437     2003        나           민법|파산법       사해행위취소등\n",
              "2   64438     2008        도         형사소송법|형법            위증\n",
              "3   64439     2007        무  인지법|민사소송법|행정소송법  상고장각하명령에대한이의\n",
              "4   64440     2006        다            헌법|민법       손해배상(기)"
            ]
          },
          "metadata": {
            "tags": []
          },
          "execution_count": 8
        }
      ]
    },
    {
      "metadata": {
        "id": "UFzZS__Ds4q2",
        "colab_type": "code",
        "outputId": "0be58a55-bee5-4849-9107-465f12f7bb2f",
        "colab": {
          "base_uri": "https://localhost:8080/",
          "height": 204
        }
      },
      "cell_type": "code",
      "source": [
        "tempdf[ tempdf['caseref'] == '' ].head()"
      ],
      "execution_count": 0,
      "outputs": [
        {
          "output_type": "execute_result",
          "data": {
            "text/html": [
              "<div>\n",
              "<style scoped>\n",
              "    .dataframe tbody tr th:only-of-type {\n",
              "        vertical-align: middle;\n",
              "    }\n",
              "\n",
              "    .dataframe tbody tr th {\n",
              "        vertical-align: top;\n",
              "    }\n",
              "\n",
              "    .dataframe thead th {\n",
              "        text-align: right;\n",
              "    }\n",
              "</style>\n",
              "<table border=\"1\" class=\"dataframe\">\n",
              "  <thead>\n",
              "    <tr style=\"text-align: right;\">\n",
              "      <th></th>\n",
              "      <th>caseIdx</th>\n",
              "      <th>caseyear</th>\n",
              "      <th>casetype</th>\n",
              "      <th>caseref</th>\n",
              "      <th>casename</th>\n",
              "    </tr>\n",
              "  </thead>\n",
              "  <tbody>\n",
              "    <tr>\n",
              "      <th>0</th>\n",
              "      <td>0</td>\n",
              "      <td></td>\n",
              "      <td></td>\n",
              "      <td></td>\n",
              "      <td>null</td>\n",
              "    </tr>\n",
              "    <tr>\n",
              "      <th>16</th>\n",
              "      <td>64452</td>\n",
              "      <td>2008</td>\n",
              "      <td>다</td>\n",
              "      <td></td>\n",
              "      <td>소유권말소등기</td>\n",
              "    </tr>\n",
              "    <tr>\n",
              "      <th>23</th>\n",
              "      <td>64459</td>\n",
              "      <td>2006</td>\n",
              "      <td>두</td>\n",
              "      <td></td>\n",
              "      <td>시정조치및과징금납부명령취소</td>\n",
              "    </tr>\n",
              "    <tr>\n",
              "      <th>26</th>\n",
              "      <td>64462</td>\n",
              "      <td>2008</td>\n",
              "      <td>두</td>\n",
              "      <td></td>\n",
              "      <td>국가유공자등록거부처분취소</td>\n",
              "    </tr>\n",
              "    <tr>\n",
              "      <th>27</th>\n",
              "      <td>64463</td>\n",
              "      <td>2008</td>\n",
              "      <td>두</td>\n",
              "      <td></td>\n",
              "      <td>정보공개거부처분취소</td>\n",
              "    </tr>\n",
              "  </tbody>\n",
              "</table>\n",
              "</div>"
            ],
            "text/plain": [
              "   caseIdx caseyear casetype caseref        casename\n",
              "0        0                                      null\n",
              "16   64452     2008        다                 소유권말소등기\n",
              "23   64459     2006        두          시정조치및과징금납부명령취소\n",
              "26   64462     2008        두           국가유공자등록거부처분취소\n",
              "27   64463     2008        두              정보공개거부처분취소"
            ]
          },
          "metadata": {
            "tags": []
          },
          "execution_count": 9
        }
      ]
    }
  ]
}