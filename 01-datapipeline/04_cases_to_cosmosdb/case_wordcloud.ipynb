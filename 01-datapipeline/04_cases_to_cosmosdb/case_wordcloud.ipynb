{
  "nbformat": 4,
  "nbformat_minor": 0,
  "metadata": {
    "colab": {
      "name": "case-wordcloud.ipynb",
      "version": "0.3.2",
      "provenance": [],
      "private_outputs": true,
      "collapsed_sections": []
    },
    "kernelspec": {
      "name": "python3",
      "display_name": "Python 3"
    }
  },
  "cells": [
    {
      "metadata": {
        "id": "Fhfxtll2wRN6",
        "colab_type": "code",
        "colab": {}
      },
      "cell_type": "code",
      "source": [
        "import os\n",
        "\n",
        "#Google Colab -DB 연결을 위한 파이썬 라이브러리 설치\n",
        "!pip3 install sqlalchemy pymysql\n",
        "\n",
        "#Konlpy 설치 (feat.JPype1-py3)\n",
        "!apt-get update\n",
        "!apt-get install g++ openjdk-8-jdk python-dev python3-dev\n",
        "!pip3 install JPype1-py3\n",
        "!pip3 install konlpy\n",
        "!JAVA_HOME=\"/usr/lib/jvm/java-8-openjdk-amd64\"\n",
        "\n",
        "#폴더 만들기\n",
        "!mkdir mecab \n",
        "\n",
        "#mecab-ko 설치\n",
        "os.chdir('/content/mecab')\n",
        "!wget \"https://bitbucket.org/eunjeon/mecab-ko/downloads/mecab-0.996-ko-0.9.2.tar.gz\"\n",
        "!tar zxfv mecab-0.996-ko-0.9.2.tar.gz\n",
        "!rm -rf mecab-0.996-ko-0.9.2.tar.gz\n",
        "os.chdir('./mecab-0.996-ko-0.9.2')\n",
        "!./configure\n",
        "!make\n",
        "!make check\n",
        "!make install\n",
        "\n",
        "#mecab-ko-dic 설치\n",
        "os.chdir('/content/mecab')\n",
        "!wget \"https://bitbucket.org/eunjeon/mecab-ko-dic/downloads/mecab-ko-dic-2.0.3-20170922.tar.gz\"\n",
        "!tar zxfv mecab-ko-dic-2.0.3-20170922.tar.gz\n",
        "!rm -rf mecab-ko-dic-2.0.3-20170922.tar.gz\n",
        "os.chdir('./mecab-ko-dic-2.0.3-20170922')\n",
        "!apt-get install automake1.11\n",
        "!./autogen.sh\n",
        "!./configure\n",
        "!ldconfig\n",
        "!make\n",
        "!make install\n",
        "\n",
        "#mecab-python3 설치\n",
        "os.chdir('/content/mecab')\n",
        "!apt install aptitude\n",
        "!aptitude install mecab libmecab-dev mecab-ipadic-utf8 git make curl xz-utils file -y\n",
        "!pip install mecab-python3"
      ],
      "execution_count": 0,
      "outputs": []
    },
    {
      "metadata": {
        "id": "UtvppFjFyXF9",
        "colab_type": "code",
        "colab": {}
      },
      "cell_type": "code",
      "source": [
        "!pip install pymysql pytagcloud pygame simplejson\n",
        "!pwd\n",
        "!wget http://cdn.naver.com/naver/NanumFont/fontfiles/NanumFont_TTF_ALL.zip\n",
        "!unzip NanumFont_TTF_ALL.zip -d -f .\n",
        "!rm -f NanumFont_TTF_ALL.zip\n",
        "!find / -name \"pytagcloud\"\n",
        "!ls /usr/local/lib/python3.6/dist-packages/pytagcloud/fonts\n",
        "!cp /content/mecab/NanumGothic.ttf /usr/local/lib/python3.6/dist-packages/pytagcloud/fonts"
      ],
      "execution_count": 0,
      "outputs": []
    },
    {
      "metadata": {
        "id": "D7mGLBDOv_Jy",
        "colab_type": "code",
        "colab": {}
      },
      "cell_type": "code",
      "source": [
        "#pymysql로 MySQL openlawdb 데이터베이스에 연결하기\n",
        "import pymysql\n",
        "con = pymysql.connect(\n",
        "        host='<your-db-endpoint>',\n",
        "        port=3306,\n",
        "        user='<your-db-user>',\n",
        "        passwd='<your-db-password>',\n",
        "        db='<your-db-databasename>',\n",
        "        charset='utf8',\n",
        "        )\n",
        "\n",
        "#연결된 openlawdb에서 쿼리 날릴 준비\n",
        "cs = con.cursor(pymysql.cursors.DictCursor)\n",
        "#cs = con.cursor()\n",
        "\n",
        "#실행하고 싶은 쿼리 세팅\n",
        "cs.execute(\"select sentencedate, casecontent from casetbl where sentencedate between '2017-01-01' and '2017-02-01';\")\n",
        "#query = \"select casecontent from casetbl where sentencedate between %s and %s;\"\n",
        "#cs.execute(query,('2017-01-01','2017-02-01'))\n",
        "\n",
        "#세팅된 쿼리의 모든 결과값을 query_contentsOfcases(Dictionary)로 저장\n",
        "query_contentsOfcases = cs.fetchall()\n",
        "\n",
        "#MySQL openlawdb 연결종료\n",
        "con.close()\n",
        "print(query_contentsOfcases)"
      ],
      "execution_count": 0,
      "outputs": []
    },
    {
      "metadata": {
        "id": "p6xWKaCrwuuN",
        "colab_type": "code",
        "colab": {}
      },
      "cell_type": "code",
      "source": [
        "result_set_flatten = ''\n",
        "for singlecase in query_contentsOfcases:\n",
        "    result_set_flatten = result_set_flatten + singlecase['casecontent']\n",
        "print(len(result_set_flatten))"
      ],
      "execution_count": 0,
      "outputs": []
    },
    {
      "metadata": {
        "id": "CyS3skKbxJrZ",
        "colab_type": "code",
        "colab": {}
      },
      "cell_type": "code",
      "source": [
        "from konlpy.tag import Mecab\n",
        "from collections import Counter\n",
        "import random\n",
        "import pytagcloud # requires Korean font support\n",
        "from konlpy.utils import pprint\n",
        "\n",
        "r = lambda: random.randint(0,255)\n",
        "color = lambda: (r(), r(), r())\n",
        "\n",
        "def get_Mtags(text, ntags=50, multiplier=0.5):\n",
        "    m = Mecab()\n",
        "    nouns = m.nouns(text)\n",
        "    count = Counter(nouns)\n",
        "    return([{ 'color': color(), 'tag': n, 'size': int(c*multiplier) }\\\n",
        "                for n, c in count.most_common(ntags)])\n",
        "\n",
        "def draw_cloud(tags, filename):\n",
        "    pytagcloud.create_tag_image(tags, filename, size=(1024, 768), fontname='/content/mecab/NanumGothic')"
      ],
      "execution_count": 0,
      "outputs": []
    },
    {
      "metadata": {
        "id": "jv7QF0py2u8f",
        "colab_type": "code",
        "colab": {}
      },
      "cell_type": "code",
      "source": [
        "Mtags = get_Mtags(result_set_flatten)\n",
        "print(pprint(Mtags))\n",
        "draw_cloud(Mtags, 'Mwordcloud.png')"
      ],
      "execution_count": 0,
      "outputs": []
    },
    {
      "metadata": {
        "id": "KBIkahut3b5V",
        "colab_type": "code",
        "colab": {}
      },
      "cell_type": "code",
      "source": [
        "from IPython.display import Image, display\n",
        "display(Image(filename='Mwordcloud.png'))"
      ],
      "execution_count": 0,
      "outputs": []
    },
    {
      "metadata": {
        "id": "Cjx5GWwP4HtY",
        "colab_type": "code",
        "colab": {}
      },
      "cell_type": "code",
      "source": [
        ""
      ],
      "execution_count": 0,
      "outputs": []
    }
  ]
}